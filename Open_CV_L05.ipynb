{
  "nbformat": 4,
  "nbformat_minor": 0,
  "metadata": {
    "colab": {
      "provenance": [],
      "authorship_tag": "ABX9TyPB/Ow2da34xPWp9GVwJZCN",
      "include_colab_link": true
    },
    "kernelspec": {
      "name": "python3",
      "display_name": "Python 3"
    },
    "language_info": {
      "name": "python"
    }
  },
  "cells": [
    {
      "cell_type": "markdown",
      "metadata": {
        "id": "view-in-github",
        "colab_type": "text"
      },
      "source": [
        "<a href=\"https://colab.research.google.com/github/aainabatool/ComputerVision/blob/main/Open_CV_L05.ipynb\" target=\"_parent\"><img src=\"https://colab.research.google.com/assets/colab-badge.svg\" alt=\"Open In Colab\"/></a>"
      ]
    },
    {
      "cell_type": "markdown",
      "source": [
        "# **Morphological Operations**\n"
      ],
      "metadata": {
        "id": "cJJK_CIl3dtZ"
      }
    },
    {
      "cell_type": "markdown",
      "source": [
        "“The objective of this lab is to understand and implement various morphological operations in OpenCV — including erosion, dilation, opening, closing, gradient, top hat, and black hat — and analyze their effects on different image structures.”"
      ],
      "metadata": {
        "id": "du_PvqBV-Hxs"
      }
    },
    {
      "cell_type": "code",
      "source": [
        "import cv2\n",
        "from google.colab.patches import cv2_imshow\n",
        "import numpy as np"
      ],
      "metadata": {
        "id": "clo8lkIu3cxr"
      },
      "execution_count": null,
      "outputs": []
    },
    {
      "cell_type": "code",
      "execution_count": null,
      "metadata": {
        "id": "HC296HC22onx"
      },
      "outputs": [],
      "source": [
        "image = cv2.imread(\"/content/download.png\")\n",
        "\n",
        "cv2_imshow(image)\n",
        "\n",
        "cv2.waitKey(0)\n",
        "cv2.destroyAllWindows()"
      ]
    },
    {
      "cell_type": "code",
      "source": [
        "import cv2, numpy as np, matplotlib.pyplot as plt\n",
        "\n",
        "gray = cv2.cvtColor(image, cv2.COLOR_BGR2GRAY)\n",
        "bin = cv2.threshold(gray, 0, 255, cv2.THRESH_BINARY + cv2.THRESH_OTSU)[1]\n",
        "\n",
        "k = np.ones((5, 5), np.uint8)  # Define 5x5 kernel\n",
        "inv = cv2.bitwise_not(bin)\n",
        "out = cv2.erode(inv, k, 1)\n",
        "plt.imshow(out, cmap='gray'), plt.axis('off'), plt.show()"
      ],
      "metadata": {
        "id": "p-2Wz5wI4jDx"
      },
      "execution_count": null,
      "outputs": []
    },
    {
      "cell_type": "markdown",
      "source": [
        "# **Lab Task 1: Erosion and Dilation**"
      ],
      "metadata": {
        "id": "aoBenQfB6MFh"
      }
    },
    {
      "cell_type": "code",
      "source": [
        "# Define different kernels\n",
        "kernels = {\n",
        "    \"3x3\": np.ones((3, 3), np.uint8),\n",
        "    \"5x5\": np.ones((5, 5), np.uint8),\n",
        "    \"7x7\": np.ones((7, 7), np.uint8)\n",
        "}"
      ],
      "metadata": {
        "id": "axEMqJ5p6GoH"
      },
      "execution_count": null,
      "outputs": []
    },
    {
      "cell_type": "code",
      "source": [
        "# Apply Erosion and Dilation for each kernel\n",
        "for name, kernel in kernels.items():\n",
        "    erosion = cv2.erode(inv, kernel, iterations=1)\n",
        "    dilation = cv2.dilate(inv, kernel, iterations=1)\n",
        "\n",
        "    plt.figure(figsize=(15, 5))\n",
        "    plt.subplot(1, 3, 1)\n",
        "    plt.imshow(inv, cmap='gray')\n",
        "    plt.title('Original (Binary Inverted)')\n",
        "    plt.axis('off')\n",
        "\n",
        "    plt.subplot(1, 3, 2)\n",
        "    plt.imshow(erosion, cmap='gray')\n",
        "    plt.title(f'Erosion ({name})')\n",
        "    plt.axis('off')\n",
        "\n",
        "    plt.subplot(1, 3, 3)\n",
        "    plt.imshow(dilation, cmap='gray')\n",
        "    plt.title(f'Dilation ({name})')\n",
        "    plt.axis('off')\n",
        "\n",
        "    plt.show()"
      ],
      "metadata": {
        "id": "DXB7kKUv6nL2"
      },
      "execution_count": null,
      "outputs": []
    },
    {
      "cell_type": "code",
      "source": [
        "#  Effect of Iterations\n",
        "kernel = np.ones((5, 5), np.uint8)\n",
        "erosion_iter2 = cv2.erode(inv, kernel, iterations=2)\n",
        "dilation_iter2 = cv2.dilate(inv, kernel, iterations=2)\n",
        "\n",
        "plt.figure(figsize=(15, 5))\n",
        "plt.subplot(1, 3, 1)\n",
        "plt.imshow(inv, cmap='gray')\n",
        "plt.title('Original (Binary Inverted)')\n",
        "plt.axis('off')\n",
        "\n",
        "plt.subplot(1, 3, 2)\n",
        "plt.imshow(erosion_iter2, cmap='gray')\n",
        "plt.title('Erosion (2 Iterations)')\n",
        "plt.axis('off')\n",
        "\n",
        "plt.subplot(1, 3, 3)\n",
        "plt.imshow(dilation_iter2, cmap='gray')\n",
        "plt.title('Dilation (2 Iterations)')\n",
        "plt.axis('off')\n",
        "\n",
        "plt.show()\n"
      ],
      "metadata": {
        "id": "kShO38NS6w2u"
      },
      "execution_count": null,
      "outputs": []
    },
    {
      "cell_type": "code",
      "source": [
        "# Observation:\n",
        "print(\"\"\"\n",
        " Observations:\n",
        "- Erosion removes white pixels from object boundaries (shrinks objects).\n",
        "- Dilation adds white pixels to object boundaries (expands objects).\n",
        "- Larger kernels cause stronger effects (more erosion/dilation).\n",
        "- More iterations = more intense change.\n",
        "\"\"\")"
      ],
      "metadata": {
        "id": "rptD8CDk62ZI"
      },
      "execution_count": null,
      "outputs": []
    },
    {
      "cell_type": "markdown",
      "source": [
        "# **Lab Task 2: Opening and Closing**\n"
      ],
      "metadata": {
        "id": "fErOz7se66Jw"
      }
    },
    {
      "cell_type": "code",
      "source": [
        "# Define Structuring Element (Kernel)\n",
        "kernel = np.ones((5, 5), np.uint8)"
      ],
      "metadata": {
        "id": "TmsdQUQQ6-Wm"
      },
      "execution_count": null,
      "outputs": []
    },
    {
      "cell_type": "code",
      "source": [
        "#  Apply Opening and Closing\n",
        "# Opening = Erosion followed by Dilation\n",
        "opening = cv2.morphologyEx(inv, cv2.MORPH_OPEN, kernel)\n",
        "\n",
        "# Closing = Dilation followed by Erosion\n",
        "closing = cv2.morphologyEx(inv, cv2.MORPH_CLOSE, kernel)"
      ],
      "metadata": {
        "id": "FFcsBtgb7Sm-"
      },
      "execution_count": null,
      "outputs": []
    },
    {
      "cell_type": "code",
      "source": [
        "# Display Results\n",
        "plt.figure(figsize=(15, 5))\n",
        "plt.subplot(1, 3, 1)\n",
        "plt.imshow(inv, cmap='gray')\n",
        "plt.title(\"Original (Binary Inverted)\")\n",
        "plt.axis('off')\n",
        "\n",
        "plt.subplot(1, 3, 2)\n",
        "plt.imshow(opening, cmap='gray')\n",
        "plt.title(\"Opening (Removes Small Noise)\")\n",
        "plt.axis('off')\n",
        "\n",
        "plt.subplot(1, 3, 3)\n",
        "plt.imshow(closing, cmap='gray')\n",
        "plt.title(\"Closing (Fills Small Holes)\")\n",
        "plt.axis('off')\n",
        "\n",
        "plt.show()"
      ],
      "metadata": {
        "id": "qA5tSXJn7XIG"
      },
      "execution_count": null,
      "outputs": []
    },
    {
      "cell_type": "code",
      "source": [
        "# Observation:\n",
        "print(\"\"\"\n",
        " Observations:\n",
        "- Opening = Erosion + Dilation\n",
        "  → Removes small white noise (isolated bright spots).\n",
        "  → Smooths object contours by clearing tiny foreground pixels.\n",
        "\n",
        "- Closing = Dilation + Erosion\n",
        "  → Fills small black holes inside bright objects.\n",
        "  → Helps close gaps or cracks in objects.\n",
        "\n",
        " In summary:\n",
        "Opening cleans the image background.\n",
        "Closing strengthens object interiors.\n",
        "\"\"\")"
      ],
      "metadata": {
        "id": "yEhdBBH67b8O"
      },
      "execution_count": null,
      "outputs": []
    },
    {
      "cell_type": "markdown",
      "source": [
        "# **Lab Task 3: Morphological Gradient**\n"
      ],
      "metadata": {
        "id": "fyMgGtjt7tHl"
      }
    },
    {
      "cell_type": "code",
      "source": [
        "#  Define Kernels\n",
        "kernels = {\n",
        "    \"3x3\": np.ones((3, 3), np.uint8),\n",
        "    \"5x5\": np.ones((5, 5), np.uint8),\n",
        "    \"7x7\": np.ones((7, 7), np.uint8)\n",
        "}"
      ],
      "metadata": {
        "id": "FWaRJlxX7jL-"
      },
      "execution_count": null,
      "outputs": []
    },
    {
      "cell_type": "code",
      "source": [
        "# Apply Morphological Gradient for Each Kernel\n",
        "for name, kernel in kernels.items():\n",
        "    gradient = cv2.morphologyEx(inv, cv2.MORPH_GRADIENT, kernel)\n",
        "\n",
        "    plt.figure(figsize=(10, 5))\n",
        "    plt.subplot(1, 2, 1)\n",
        "    plt.imshow(inv, cmap='gray')\n",
        "    plt.title('Original (Binary Inverted)')\n",
        "    plt.axis('off')\n",
        "\n",
        "    plt.subplot(1, 2, 2)\n",
        "    plt.imshow(gradient, cmap='gray')\n",
        "    plt.title(f'Morphological Gradient ({name})')\n",
        "    plt.axis('off')\n",
        "\n",
        "    plt.show()"
      ],
      "metadata": {
        "id": "VoTY968M71Nu"
      },
      "execution_count": null,
      "outputs": []
    },
    {
      "cell_type": "code",
      "source": [
        "#  Observations\n",
        "print(\"\"\"\n",
        " Observations:\n",
        "- Morphological Gradient = Dilation - Erosion\n",
        "- It highlights the boundaries of objects in the image.\n",
        "- Bright edges represent transitions between foreground and background.\n",
        "- Larger kernels produce thicker edges, smaller ones highlight fine boundaries.\n",
        "\n",
        " In summary:\n",
        "The Morphological Gradient is useful for edge detection\n",
        "and outlining object contours without losing structure.\n",
        "\"\"\")"
      ],
      "metadata": {
        "id": "OxYbywUe75OG"
      },
      "execution_count": null,
      "outputs": []
    },
    {
      "cell_type": "markdown",
      "source": [
        "# **Lab Task 4: Top Hat**"
      ],
      "metadata": {
        "id": "APwBki3y8Bxo"
      }
    },
    {
      "cell_type": "code",
      "source": [
        "binary = cv2.threshold(gray, 0, 255, cv2.THRESH_BINARY + cv2.THRESH_OTSU)[1]"
      ],
      "metadata": {
        "id": "nD6YByx58nKF"
      },
      "execution_count": null,
      "outputs": []
    },
    {
      "cell_type": "code",
      "source": [
        "# Define Structuring Element (Kernel)\n",
        "kernel = np.ones((9, 9), np.uint8)  # Larger kernel captures bigger features"
      ],
      "metadata": {
        "id": "pjbb9wKj7-BF"
      },
      "execution_count": null,
      "outputs": []
    },
    {
      "cell_type": "code",
      "source": [
        "# Apply Top Hat Operation\n",
        "# Top Hat = Original - Opening\n",
        "tophat = cv2.morphologyEx(binary, cv2.MORPH_TOPHAT, kernel)\n",
        "\n"
      ],
      "metadata": {
        "id": "HI8KUcan8PzG"
      },
      "execution_count": null,
      "outputs": []
    },
    {
      "cell_type": "code",
      "source": [
        "#  Step 5: Display Results\n",
        "plt.figure(figsize=(12, 5))\n",
        "plt.subplot(1, 2, 1)\n",
        "plt.imshow(binary, cmap='gray')\n",
        "plt.title(\"Original (Binary)\")\n",
        "plt.axis('off')\n",
        "\n",
        "plt.subplot(1, 2, 2)\n",
        "plt.imshow(tophat, cmap='gray')\n",
        "plt.title(\"Top Hat Result\")\n",
        "plt.axis('off')\n",
        "plt.show()\n"
      ],
      "metadata": {
        "id": "hfoKY6qX8V9-"
      },
      "execution_count": null,
      "outputs": []
    },
    {
      "cell_type": "code",
      "source": [
        "#  Observations\n",
        "print(\"\"\"\n",
        " Observations:\n",
        "- Top Hat = Original Image - Opening\n",
        "- It extracts small bright regions that are smaller than the structuring element.\n",
        "- Useful for enhancing fine bright details or removing uneven lighting.\n",
        "\n",
        " In summary:\n",
        "Top Hat highlights small bright spots or textures on darker backgrounds,\n",
        "making it ideal for detecting dust, light reflections, or white text.\n",
        "\"\"\")"
      ],
      "metadata": {
        "id": "4tlKUc8B8uft"
      },
      "execution_count": null,
      "outputs": []
    },
    {
      "cell_type": "markdown",
      "source": [
        "# **Lab Task 5: Black Hat**"
      ],
      "metadata": {
        "id": "d0_3cbtn9HHt"
      }
    },
    {
      "cell_type": "code",
      "source": [
        "#  Define Structuring Element (Kernel)\n",
        "kernel = np.ones((9, 9), np.uint8)"
      ],
      "metadata": {
        "id": "rlZ-OgTY80IF"
      },
      "execution_count": null,
      "outputs": []
    },
    {
      "cell_type": "code",
      "source": [
        "#  Apply Black Hat Operation\n",
        "# Black Hat = Closing - Original\n",
        "blackhat = cv2.morphologyEx(binary, cv2.MORPH_BLACKHAT, kernel)"
      ],
      "metadata": {
        "id": "0xffnGWe9ewd"
      },
      "execution_count": null,
      "outputs": []
    },
    {
      "cell_type": "code",
      "source": [
        "#  Display Results\n",
        "plt.figure(figsize=(12, 5))\n",
        "plt.subplot(1, 2, 1)\n",
        "plt.imshow(binary, cmap='gray')\n",
        "plt.title(\"Original (Binary)\")\n",
        "plt.axis('off')\n",
        "\n",
        "plt.subplot(1, 2, 2)\n",
        "plt.imshow(blackhat, cmap='gray')\n",
        "plt.title(\"Black Hat Result\")\n",
        "plt.axis('off')\n",
        "plt.show()\n"
      ],
      "metadata": {
        "id": "rSo1BQFI9ict"
      },
      "execution_count": null,
      "outputs": []
    },
    {
      "cell_type": "code",
      "source": [
        "# Observations\n",
        "print(\"\"\"\n",
        "Observations:\n",
        "- Black Hat = Closing - Original Image\n",
        "- It highlights small dark regions or shadows on a bright background.\n",
        "- The operation is useful for detecting cracks, holes, or text imprints.\n",
        "\n",
        "In summary:\n",
        "The Black Hat operation is the inverse of Top Hat.\n",
        "It emphasizes dark features that are smaller than the structuring element.\n",
        "Ideal for defect detection, shadow analysis, or dark spot enhancement.\n",
        "\"\"\")"
      ],
      "metadata": {
        "id": "VN0DYJOD9msT"
      },
      "execution_count": null,
      "outputs": []
    },
    {
      "cell_type": "code",
      "source": [],
      "metadata": {
        "id": "3Lmt4inl9reF"
      },
      "execution_count": null,
      "outputs": []
    }
  ]
}