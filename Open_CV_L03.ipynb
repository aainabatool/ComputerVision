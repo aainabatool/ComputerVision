{
  "nbformat": 4,
  "nbformat_minor": 0,
  "metadata": {
    "colab": {
      "provenance": [],
      "authorship_tag": "ABX9TyOpWnuxeFfcLjNTwiw+JsZl",
      "include_colab_link": true
    },
    "kernelspec": {
      "name": "python3",
      "display_name": "Python 3"
    },
    "language_info": {
      "name": "python"
    }
  },
  "cells": [
    {
      "cell_type": "markdown",
      "metadata": {
        "id": "view-in-github",
        "colab_type": "text"
      },
      "source": [
        "<a href=\"https://colab.research.google.com/github/aainabatool/ComputerVision/blob/main/Open_CV_L03.ipynb\" target=\"_parent\"><img src=\"https://colab.research.google.com/assets/colab-badge.svg\" alt=\"Open In Colab\"/></a>"
      ]
    },
    {
      "cell_type": "markdown",
      "source": [
        "# **LAB-03**"
      ],
      "metadata": {
        "id": "3kuWpIVr8p39"
      }
    },
    {
      "cell_type": "markdown",
      "source": [
        "**Activity 1**"
      ],
      "metadata": {
        "id": "H6CmQhsFaiNK"
      }
    },
    {
      "cell_type": "markdown",
      "source": [
        "**Load Video File:**"
      ],
      "metadata": {
        "id": "LnkVgMB_cfr2"
      }
    },
    {
      "cell_type": "code",
      "source": [
        "from google.colab.patches import cv2_imshow\n"
      ],
      "metadata": {
        "id": "sTLnQYVsf3q7"
      },
      "execution_count": null,
      "outputs": []
    },
    {
      "cell_type": "code",
      "source": [
        "import matplotlib.pyplot as plt"
      ],
      "metadata": {
        "id": "m_6mT9QquSKc"
      },
      "execution_count": null,
      "outputs": []
    },
    {
      "cell_type": "code",
      "source": [
        "import numpy as np"
      ],
      "metadata": {
        "id": "ATKh3yKvq08q"
      },
      "execution_count": null,
      "outputs": []
    },
    {
      "cell_type": "code",
      "source": [
        "import cv2"
      ],
      "metadata": {
        "id": "vgby7iV8vryP"
      },
      "execution_count": null,
      "outputs": []
    },
    {
      "cell_type": "code",
      "execution_count": null,
      "metadata": {
        "id": "5_ulN8eUZ0X7"
      },
      "outputs": [],
      "source": [
        "import cv2\n",
        "video_path = \"/content/horse.mp4\"\n",
        "cap = cv2.VideoCapture(video_path)"
      ]
    },
    {
      "cell_type": "markdown",
      "source": [
        "**Play the Video**"
      ],
      "metadata": {
        "id": "uPE22moScsEP"
      }
    },
    {
      "cell_type": "code",
      "source": [
        "while cap.isOpened():\n",
        "  ret, frame = cap.read()\n",
        "  if not ret:\n",
        "    break\n",
        "\n",
        "  #Display the frame\n",
        "  cv2_imshow(frame)\n",
        "\n",
        "  #Exit on 'q' key press\n",
        "  if cv2.waitKey(25) & 0xFF == ord('q'):\n",
        "    break\n",
        "\n",
        "#Release the video capture object\n",
        "cap.release()\n",
        "cv2.destroyAllWindows()"
      ],
      "metadata": {
        "id": "IEahhAPQcuXS"
      },
      "execution_count": null,
      "outputs": []
    },
    {
      "cell_type": "markdown",
      "source": [
        "**Activity 2**"
      ],
      "metadata": {
        "id": "JxvytXUEiEkP"
      }
    },
    {
      "cell_type": "markdown",
      "source": [
        "**Create Video Using Multiple Images**"
      ],
      "metadata": {
        "id": "hpKqrELziJhl"
      }
    },
    {
      "cell_type": "markdown",
      "source": [
        "**Load Images:**"
      ],
      "metadata": {
        "id": "_FeR8eGsko9F"
      }
    },
    {
      "cell_type": "code",
      "source": [
        "# Correct list of filenames\n",
        "images = ['image1.jpeg', 'image2.jpeg', 'image3.jpeg', 'image4.jpg',\n",
        "          'image5.jpeg', 'image6.jpeg', 'image7.jpeg',\n",
        "          'image8.jpeg', 'image9.jpeg', 'image10.jpeg']\n",
        "\n",
        "loaded_images = []\n",
        "\n",
        "for img_name in images:\n",
        "    img = cv2.imread(img_name)\n",
        "    if img is None:\n",
        "        print(f\" Could not load {img_name}\")\n",
        "    else:\n",
        "        loaded_images.append(img)\n",
        "        print(f\" {img_name} loaded successfully with shape {img.shape}\")\n"
      ],
      "metadata": {
        "id": "yc-bVBB_jna0"
      },
      "execution_count": null,
      "outputs": []
    },
    {
      "cell_type": "code",
      "source": [
        "#import glob\n",
        "#import cv2\n",
        "\n",
        "# Match both .jpg and .jpeg\n",
        "#images = sorted(glob.glob(\"image*.jp*\"))\n",
        "\n",
        "#loaded_images = [cv2.imread(img) for img in images]\n",
        "\n",
        "#for name, img in zip(images, loaded_images):\n",
        " #   print(f\"✅ {name} loaded successfully with shape {img.shape}\")\n"
      ],
      "metadata": {
        "id": "EgQsSMH-j6CG"
      },
      "execution_count": null,
      "outputs": []
    },
    {
      "cell_type": "code",
      "source": [],
      "metadata": {
        "id": "VZVq7lfIlGfI"
      },
      "execution_count": null,
      "outputs": []
    },
    {
      "cell_type": "markdown",
      "source": [
        "**Create a Video:**"
      ],
      "metadata": {
        "id": "tgWBWq5ckrJN"
      }
    },
    {
      "cell_type": "code",
      "source": [
        "# Step 2: Get video size from the first image\n",
        "if loaded_images:\n",
        "    height, width, _ = loaded_images[0].shape\n",
        "\n",
        "    # Step 3: Define video writer\n",
        "    fourcc = cv2.VideoWriter_fourcc(*'XVID')   # Codec\n",
        "    fps = 1   # Change this to 2, 5, etc. to speed up the slideshow\n",
        "    out = cv2.VideoWriter('output.avi', fourcc, fps, (width, height))\n",
        "\n",
        "    # Step 4: Write images into video\n",
        "    for img in loaded_images:\n",
        "        resized = cv2.resize(img, (width, height))  # Ensure same size\n",
        "        out.write(resized)\n",
        "\n",
        "    # Step 5: Release\n",
        "    out.release()\n",
        "    print(\"🎥 Video created successfully: output.avi\")\n",
        "else:\n",
        "    print(\"⚠️ No images were loaded, video not created.\")"
      ],
      "metadata": {
        "id": "riZGf60PmH3_"
      },
      "execution_count": null,
      "outputs": []
    },
    {
      "cell_type": "markdown",
      "source": [
        "# **GRADED TASKS:**"
      ],
      "metadata": {
        "id": "K_eiycwpnQUT"
      }
    },
    {
      "cell_type": "markdown",
      "source": [
        "**TASK: 1**\n",
        "Processing Images of a Video"
      ],
      "metadata": {
        "id": "cbGoQD73nUY_"
      }
    },
    {
      "cell_type": "markdown",
      "source": [
        "**Load the Video**"
      ],
      "metadata": {
        "id": "kO8puXpjrFuY"
      }
    },
    {
      "cell_type": "code",
      "source": [
        "video_path = '/content/horsiee.mp4'\n",
        "cap = cv2.VideoCapture(video_path)\n",
        "\n",
        "if not cap.isOpened():\n",
        "    print(\"Error: Could not open video.\")\n",
        "    exit()\n"
      ],
      "metadata": {
        "id": "aBkdM610nTDy"
      },
      "execution_count": null,
      "outputs": []
    },
    {
      "cell_type": "markdown",
      "source": [
        "**Prepare Video Writer**"
      ],
      "metadata": {
        "id": "obfDKllcsukS"
      }
    },
    {
      "cell_type": "code",
      "source": [
        "# Read first frame to get video dimensions\n",
        "ret, frame = cap.read()\n",
        "if not ret:\n",
        "    print(\"Error: Could not read video.\")\n",
        "    exit()\n",
        "\n",
        "height, width = frame.shape[:2]\n",
        "# Each frame will have 4 processed versions stacked horizontally\n",
        "output_width = width * 4\n",
        "output_height = height\n",
        "\n",
        "fourcc = cv2.VideoWriter_fourcc(*'mp4v')\n",
        "out = cv2.VideoWriter('processed_video.mp4', fourcc, 20.0, (output_width, output_height))\n"
      ],
      "metadata": {
        "id": "NkTbvFias7Cx"
      },
      "execution_count": null,
      "outputs": []
    },
    {
      "cell_type": "markdown",
      "source": [
        "**Process Frames**"
      ],
      "metadata": {
        "id": "PLNZ2ysctpVx"
      }
    },
    {
      "cell_type": "code",
      "source": [
        "# Reset video to first frame\n",
        "cap.set(cv2.CAP_PROP_POS_FRAMES, 0)\n",
        "\n",
        "while True:\n",
        "    ret, frame = cap.read()\n",
        "    if not ret:\n",
        "        break\n",
        "\n",
        "    # 1. Resizing (keep same size for stacking)\n",
        "    resized_frame = cv2.resize(frame, (width, height))\n",
        "\n",
        "    # 2. Blurring\n",
        "    blurred_frame = cv2.GaussianBlur(frame, (15, 15), 0)\n",
        "\n",
        "    # 3. Grayscale\n",
        "    gray_frame = cv2.cvtColor(frame, cv2.COLOR_BGR2GRAY)\n",
        "    gray_frame_colored = cv2.cvtColor(gray_frame, cv2.COLOR_GRAY2BGR)  # To stack with BGR frames\n",
        "\n",
        "    # Stack frames side by side\n",
        "    combined = np.hstack((frame, resized_frame, blurred_frame, gray_frame_colored))\n",
        "\n",
        "    # Write combined frame to output video\n",
        "    out.write(combined)\n"
      ],
      "metadata": {
        "id": "mWn_FK4wtCtM"
      },
      "execution_count": null,
      "outputs": []
    },
    {
      "cell_type": "markdown",
      "source": [
        "**Release Resources**"
      ],
      "metadata": {
        "id": "fAKzFciKttWj"
      }
    },
    {
      "cell_type": "code",
      "source": [
        "cap.release()\n",
        "out.release()\n",
        "print(\"Processed video saved as 'processed_video.mp4'.\")\n"
      ],
      "metadata": {
        "id": "BSCkkpuhtZEE"
      },
      "execution_count": null,
      "outputs": []
    },
    {
      "cell_type": "markdown",
      "source": [
        "**Display Sample Frame in Colab**"
      ],
      "metadata": {
        "id": "rwWXSm99twz4"
      }
    },
    {
      "cell_type": "code",
      "source": [
        "# Display first frame for visual confirmation\n",
        "sample_frame = combined\n",
        "sample_frame_rgb = cv2.cvtColor(sample_frame, cv2.COLOR_BGR2RGB)\n",
        "plt.figure(figsize=(20, 5))\n",
        "plt.imshow(sample_frame_rgb)\n",
        "plt.axis('off')\n",
        "plt.show()\n"
      ],
      "metadata": {
        "id": "gWxHMvH4txuh"
      },
      "execution_count": null,
      "outputs": []
    },
    {
      "cell_type": "markdown",
      "source": [
        "**Task: 2**\n",
        " Writing to Video with OpenCV"
      ],
      "metadata": {
        "id": "FNXGMx5cu9SM"
      }
    },
    {
      "cell_type": "markdown",
      "source": [
        "**Load Video**"
      ],
      "metadata": {
        "id": "-HJj2wQmvV3H"
      }
    },
    {
      "cell_type": "code",
      "source": [
        "video_path = '/content/horsiee.mp4'\n",
        "cap = cv2.VideoCapture(video_path)\n",
        "if not cap.isOpened():\n",
        "    print(\"Error: Could not open video.\")\n",
        "    exit()"
      ],
      "metadata": {
        "id": "Z-qYFSL8vR4M"
      },
      "execution_count": null,
      "outputs": []
    },
    {
      "cell_type": "markdown",
      "source": [
        "**Get Video Properties**"
      ],
      "metadata": {
        "id": "tFZwRl00vx0b"
      }
    },
    {
      "cell_type": "code",
      "source": [
        "ret, frame = cap.read()\n",
        "if not ret:\n",
        "    print(\"Error: Could not read video.\")\n",
        "    exit()\n",
        "\n",
        "height, width = frame.shape[:2]\n",
        "fps = cap.get(cv2.CAP_PROP_FPS)  # Get original video FPS\n",
        "total_frames = int(cap.get(cv2.CAP_PROP_FRAME_COUNT))"
      ],
      "metadata": {
        "id": "jIYNb-XHvdWx"
      },
      "execution_count": null,
      "outputs": []
    },
    {
      "cell_type": "markdown",
      "source": [
        "**Initialize Video Writer**"
      ],
      "metadata": {
        "id": "z2lE5TVSv6T0"
      }
    },
    {
      "cell_type": "code",
      "source": [
        "fourcc = cv2.VideoWriter_fourcc(*'mp4v')\n",
        "output_path = 'task2_processed_video.mp4'\n",
        "out = cv2.VideoWriter(output_path, fourcc, fps, (width*4, height))  # width*4 for 4 frames stacked horizontally\n"
      ],
      "metadata": {
        "id": "-y2qOnBov1U4"
      },
      "execution_count": null,
      "outputs": []
    },
    {
      "cell_type": "markdown",
      "source": [
        "**Reset video to first frame**"
      ],
      "metadata": {
        "id": "R7qXePMdwCLy"
      }
    },
    {
      "cell_type": "code",
      "source": [
        "cap.set(cv2.CAP_PROP_POS_FRAMES, 0)"
      ],
      "metadata": {
        "id": "1R39XVGev92k"
      },
      "execution_count": null,
      "outputs": []
    },
    {
      "cell_type": "markdown",
      "source": [
        "**Process and Write Frames**"
      ],
      "metadata": {
        "id": "BnJSCJr2wHmO"
      }
    },
    {
      "cell_type": "code",
      "source": [
        "#Process and Write Frames ---\n",
        "frame_count = 0\n",
        "while True:\n",
        "    ret, frame = cap.read()\n",
        "    if not ret:\n",
        "        break\n",
        "\n",
        "    # Process frames\n",
        "    resized_frame = cv2.resize(frame, (width, height))\n",
        "    blurred_frame = cv2.GaussianBlur(frame, (15, 15), 0)\n",
        "    gray_frame = cv2.cvtColor(frame, cv2.COLOR_BGR2GRAY)\n",
        "    gray_frame_colored = cv2.cvtColor(gray_frame, cv2.COLOR_GRAY2BGR)\n",
        "\n",
        "    # Stack frames side by side\n",
        "    combined = np.hstack((frame, resized_frame, blurred_frame, gray_frame_colored))\n",
        "\n",
        "    # Write to output video\n",
        "    out.write(combined)\n",
        "\n",
        "    # Progress message\n",
        "    frame_count += 1\n",
        "    if frame_count % 10 == 0 or frame_count == total_frames:\n",
        "        print(f\"Processed frame {frame_count}/{total_frames}\")\n"
      ],
      "metadata": {
        "id": "5HCPWv_XwFLK"
      },
      "execution_count": null,
      "outputs": []
    },
    {
      "cell_type": "markdown",
      "source": [
        "**Release Resources**"
      ],
      "metadata": {
        "id": "5JSH9xmSwQZN"
      }
    },
    {
      "cell_type": "code",
      "source": [
        "cap.release()\n",
        "out.release()\n",
        "print(f\"Video creation completed. Saved as '{output_path}'\")\n"
      ],
      "metadata": {
        "id": "0JR6dHZ4wMTF"
      },
      "execution_count": null,
      "outputs": []
    },
    {
      "cell_type": "markdown",
      "source": [
        "**Lab Task 3:**\n",
        "Writing Text on Video"
      ],
      "metadata": {
        "id": "v3D6P4L1xDaE"
      }
    },
    {
      "cell_type": "markdown",
      "source": [
        "**Load Video**"
      ],
      "metadata": {
        "id": "flweGbnhxOzo"
      }
    },
    {
      "cell_type": "code",
      "source": [
        "video_path = '/content/horsiee.mp4'\n",
        "cap = cv2.VideoCapture(video_path)\n",
        "if not cap.isOpened():\n",
        "    print(\"Error: Could not open video.\")\n",
        "    exit()"
      ],
      "metadata": {
        "id": "wO_frQ0vw0f0"
      },
      "execution_count": null,
      "outputs": []
    },
    {
      "cell_type": "markdown",
      "source": [
        "**Get Video Properties**"
      ],
      "metadata": {
        "id": "aTmE9Bw6xco7"
      }
    },
    {
      "cell_type": "code",
      "source": [
        "ret, frame = cap.read()\n",
        "height, width = frame.shape[:2]\n",
        "fps = cap.get(cv2.CAP_PROP_FPS)\n",
        "total_frames = int(cap.get(cv2.CAP_PROP_FRAME_COUNT))"
      ],
      "metadata": {
        "id": "15_8O4FtxTkM"
      },
      "execution_count": null,
      "outputs": []
    },
    {
      "cell_type": "markdown",
      "source": [
        "**Initialize Video Writer**"
      ],
      "metadata": {
        "id": "owoer87RxiLl"
      }
    },
    {
      "cell_type": "code",
      "source": [
        "fourcc = cv2.VideoWriter_fourcc(*'mp4v')\n",
        "output_path = 'task3_video_with_text.mp4'\n",
        "out = cv2.VideoWriter(output_path, fourcc, fps, (width*4, height))\n",
        "\n",
        "# Reset video to first frame\n",
        "cap.set(cv2.CAP_PROP_POS_FRAMES, 0)\n"
      ],
      "metadata": {
        "id": "4FnddgCWxfdA"
      },
      "execution_count": null,
      "outputs": []
    },
    {
      "cell_type": "markdown",
      "source": [
        "**Process Frames and Add Text**"
      ],
      "metadata": {
        "id": "eVBUwtpsxuDv"
      }
    },
    {
      "cell_type": "code",
      "source": [
        "frame_count = 0\n",
        "while True:\n",
        "    ret, frame = cap.read()\n",
        "    if not ret:\n",
        "        break\n",
        "\n",
        "    # Processing\n",
        "    resized_frame = cv2.resize(frame, (width, height))\n",
        "    blurred_frame = cv2.GaussianBlur(frame, (15, 15), 0)\n",
        "    gray_frame = cv2.cvtColor(frame, cv2.COLOR_BGR2GRAY)\n",
        "    gray_frame_colored = cv2.cvtColor(gray_frame, cv2.COLOR_GRAY2BGR)\n",
        "\n",
        "    # Stack frames horizontally\n",
        "    combined = np.hstack((frame, resized_frame, blurred_frame, gray_frame_colored))\n",
        "\n",
        "    # Add text\n",
        "    text = f\"Frame: {frame_count + 1}\"\n",
        "    font = cv2.FONT_HERSHEY_SIMPLEX\n",
        "    font_scale = 1\n",
        "    color = (0, 255, 0)  # Bright green\n",
        "    thickness = 2\n",
        "    position = (50, 50)  # Top-left corner\n",
        "    cv2.putText(combined, text, position, font, font_scale, color, thickness, cv2.LINE_AA)\n",
        "\n",
        "    # Write to output video\n",
        "    out.write(combined)\n",
        "\n",
        "    # Progress message\n",
        "    frame_count += 1\n",
        "    if frame_count % 10 == 0 or frame_count == total_frames:\n",
        "        print(f\"Processed frame {frame_count}/{total_frames}\")"
      ],
      "metadata": {
        "id": "2sO9fZaoxmP-"
      },
      "execution_count": null,
      "outputs": []
    },
    {
      "cell_type": "markdown",
      "source": [
        "**Release Resources**"
      ],
      "metadata": {
        "id": "Q-ay-22eyCc9"
      }
    },
    {
      "cell_type": "code",
      "source": [
        "cap.release()\n",
        "out.release()\n",
        "print(f\"Video creation completed. Saved as '{output_path}'\")"
      ],
      "metadata": {
        "id": "ug4gCnPmx3zJ"
      },
      "execution_count": null,
      "outputs": []
    }
  ]
}