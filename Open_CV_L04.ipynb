{
  "nbformat": 4,
  "nbformat_minor": 0,
  "metadata": {
    "colab": {
      "provenance": [],
      "authorship_tag": "ABX9TyNbteK+7JMAdBE9xV6J2bzQ",
      "include_colab_link": true
    },
    "kernelspec": {
      "name": "python3",
      "display_name": "Python 3"
    },
    "language_info": {
      "name": "python"
    }
  },
  "cells": [
    {
      "cell_type": "markdown",
      "metadata": {
        "id": "view-in-github",
        "colab_type": "text"
      },
      "source": [
        "<a href=\"https://colab.research.google.com/github/aainabatool/ComputerVision/blob/main/Open_CV_L04.ipynb\" target=\"_parent\"><img src=\"https://colab.research.google.com/assets/colab-badge.svg\" alt=\"Open In Colab\"/></a>"
      ]
    },
    {
      "cell_type": "markdown",
      "source": [
        "**Name: Aaina Batool**\n",
        "\n",
        "**Reg: SP23-BAI-001**"
      ],
      "metadata": {
        "id": "jVaRJru6lxPR"
      }
    },
    {
      "cell_type": "markdown",
      "source": [
        "# **OpenCV Edge Detection and Blurring**"
      ],
      "metadata": {
        "id": "gVPu2UsyYVJM"
      }
    },
    {
      "cell_type": "markdown",
      "source": [
        "# **LAB TASK 1**"
      ],
      "metadata": {
        "id": "eFQ_aKcNiZ67"
      }
    },
    {
      "cell_type": "code",
      "execution_count": null,
      "metadata": {
        "id": "wird1ARhX03O"
      },
      "outputs": [],
      "source": [
        "import cv2\n",
        "import numpy as np\n",
        "from matplotlib import pyplot as plt"
      ]
    },
    {
      "cell_type": "markdown",
      "source": [
        "**Load and Display an Iamge:**"
      ],
      "metadata": {
        "id": "GBKOlVKJZ4sT"
      }
    },
    {
      "cell_type": "code",
      "source": [
        "image = cv2.imread('/content/horse1.jpg')"
      ],
      "metadata": {
        "id": "CQ0s4cD_Yo-B"
      },
      "execution_count": null,
      "outputs": []
    },
    {
      "cell_type": "code",
      "source": [
        "from google.colab.patches import cv2_imshow\n",
        "cv2_imshow(image)\n",
        "\n",
        "cv2.waitKey(0)\n",
        "cv2.destroyAllWindows()"
      ],
      "metadata": {
        "id": "ZYlJ9yC8ZJbj"
      },
      "execution_count": null,
      "outputs": []
    },
    {
      "cell_type": "markdown",
      "source": [
        "**Convert to graycsale**"
      ],
      "metadata": {
        "id": "Uxo4QpnKc7Uf"
      }
    },
    {
      "cell_type": "code",
      "source": [
        "img_gray = cv2.cvtColor(image, cv2.COLOR_BGR2GRAY)"
      ],
      "metadata": {
        "id": "r7p9Vedtc8pH"
      },
      "execution_count": null,
      "outputs": []
    },
    {
      "cell_type": "code",
      "source": [
        "cv2_imshow(img_gray)"
      ],
      "metadata": {
        "id": "lPzyWl8mdJ_n"
      },
      "execution_count": null,
      "outputs": []
    },
    {
      "cell_type": "markdown",
      "source": [
        "**Blur the image for better edge detection**"
      ],
      "metadata": {
        "id": "CkWMsgtKdd8Z"
      }
    },
    {
      "cell_type": "code",
      "source": [
        "img_blur = cv2.GaussianBlur(img_gray, (3,3), 0)"
      ],
      "metadata": {
        "id": "Ici6CUEGdfQv"
      },
      "execution_count": null,
      "outputs": []
    },
    {
      "cell_type": "code",
      "source": [
        "cv2_imshow(img_blur)"
      ],
      "metadata": {
        "id": "of6eEDdGdiw6"
      },
      "execution_count": null,
      "outputs": []
    },
    {
      "cell_type": "markdown",
      "source": [
        "## **Apply Edge Detection:**\n",
        "\n"
      ],
      "metadata": {
        "id": "vmATqJe6afXG"
      }
    },
    {
      "cell_type": "markdown",
      "source": [
        "**Canny Edge Detction:**"
      ],
      "metadata": {
        "id": "RKnW1rURfFoc"
      }
    },
    {
      "cell_type": "code",
      "source": [
        "edges = cv2.Canny(image=img_blur, threshold1=100, threshold2=200)"
      ],
      "metadata": {
        "id": "saBVd-6yZTzC"
      },
      "execution_count": null,
      "outputs": []
    },
    {
      "cell_type": "code",
      "source": [
        "from google.colab.patches import cv2_imshow\n",
        "\n",
        "cv2_imshow(edges)"
      ],
      "metadata": {
        "id": "__6ED_yva8Xm"
      },
      "execution_count": null,
      "outputs": []
    },
    {
      "cell_type": "markdown",
      "source": [
        "**Sobel Edge Detection**"
      ],
      "metadata": {
        "id": "yOs_sIFdfRGE"
      }
    },
    {
      "cell_type": "code",
      "source": [
        "sobelx = cv2.Sobel(src=img_blur, ddepth=cv2.CV_64F, dx=1, dy=0, ksize=5) # Sobel Edge Detection on the X axis\n",
        "sobely = cv2.Sobel(src=img_blur, ddepth=cv2.CV_64F, dx=0, dy=1, ksize=5) # Sobel Edge Detection on the Y axis\n",
        "sobelxy = cv2.Sobel(src=img_blur, ddepth=cv2.CV_64F, dx=1, dy=1, ksize=5) # Combined X and Y Sobel Edge Detection"
      ],
      "metadata": {
        "id": "KdkaP7djcBnW"
      },
      "execution_count": null,
      "outputs": []
    },
    {
      "cell_type": "markdown",
      "source": [
        "**Display Sobel Edge Detection Images**"
      ],
      "metadata": {
        "id": "gUoLI_dOfjt0"
      }
    },
    {
      "cell_type": "code",
      "source": [
        "from google.colab.patches import cv2_imshow\n",
        "cv2_imshow(sobelx)\n",
        "cv2_imshow(sobely)\n",
        "cv2_imshow(sobelxy)"
      ],
      "metadata": {
        "id": "PlbUcM8Kfb-J"
      },
      "execution_count": null,
      "outputs": []
    },
    {
      "cell_type": "markdown",
      "source": [
        "# **LAB TASK 2**"
      ],
      "metadata": {
        "id": "9GHaWxmhignE"
      }
    },
    {
      "cell_type": "markdown",
      "source": [
        "## **Custom Blurring Effects:**"
      ],
      "metadata": {
        "id": "6znMxosVkVkV"
      }
    },
    {
      "cell_type": "code",
      "source": [
        "img = cv2.imread('/content/lion.jpg')"
      ],
      "metadata": {
        "id": "gb0sjvY5fmN6"
      },
      "execution_count": null,
      "outputs": []
    },
    {
      "cell_type": "markdown",
      "source": [
        "**Read and Display Original Image:**"
      ],
      "metadata": {
        "id": "keY-VhdaiRbP"
      }
    },
    {
      "cell_type": "code",
      "source": [
        "from google.colab.patches import cv2_imshow\n",
        "cv2_imshow(img)\n",
        "\n",
        "cv2.waitKey(0)\n",
        "cv2.destroyAllWindows()"
      ],
      "metadata": {
        "id": "GJNJdy5xhZFk"
      },
      "execution_count": null,
      "outputs": []
    },
    {
      "cell_type": "markdown",
      "source": [
        "## **2D Convulation:**\n"
      ],
      "metadata": {
        "id": "Cx5KitgVkkRf"
      }
    },
    {
      "cell_type": "code",
      "source": [
        "kernel = np.ones((5,5),np.float32)/25\n",
        "dst = cv2.filter2D(img,-1,kernel)"
      ],
      "metadata": {
        "id": "XmefhjY5j29P"
      },
      "execution_count": null,
      "outputs": []
    },
    {
      "cell_type": "code",
      "source": [
        "plt.subplot(121),plt.imshow(img),plt.title('Original')\n",
        "plt.xticks([]), plt.yticks([])\n",
        "plt.subplot(122),plt.imshow(dst),plt.title('Averaging')\n",
        "plt.xticks([]), plt.yticks([])\n",
        "plt.show()"
      ],
      "metadata": {
        "id": "Obo0WxWoi749"
      },
      "execution_count": null,
      "outputs": []
    },
    {
      "cell_type": "markdown",
      "source": [
        "## **1. Averaging**"
      ],
      "metadata": {
        "id": "B-wY5Gt5kzn9"
      }
    },
    {
      "cell_type": "code",
      "source": [
        "blur = cv2.blur(img,(5,5))\n",
        "\n",
        "plt.subplot(121),plt.imshow(img),plt.title('Original')\n",
        "plt.xticks([]), plt.yticks([])\n",
        "plt.subplot(122),plt.imshow(blur),plt.title('Blurred')\n",
        "plt.xticks([]), plt.yticks([])\n",
        "plt.show()"
      ],
      "metadata": {
        "id": "-0yDqVslj0sg"
      },
      "execution_count": null,
      "outputs": []
    },
    {
      "cell_type": "markdown",
      "source": [
        "### **2. Gaussian Filtering:**"
      ],
      "metadata": {
        "id": "J7oNzJ0Hk4Xu"
      }
    },
    {
      "cell_type": "code",
      "source": [
        "blur = cv2.GaussianBlur(img,(5,5),0)\n",
        "cv2_imshow(blur)"
      ],
      "metadata": {
        "id": "SwVmVwdTkO2A"
      },
      "execution_count": null,
      "outputs": []
    },
    {
      "cell_type": "markdown",
      "source": [
        "### **3. Median Filtering**"
      ],
      "metadata": {
        "id": "UAH_72julCUZ"
      }
    },
    {
      "cell_type": "code",
      "source": [
        "median = cv2.medianBlur(img,5)\n",
        "cv2_imshow(median)"
      ],
      "metadata": {
        "id": "z8MgEq-blH-u"
      },
      "execution_count": null,
      "outputs": []
    },
    {
      "cell_type": "code",
      "source": [],
      "metadata": {
        "id": "H8_Nbr_olfMv"
      },
      "execution_count": null,
      "outputs": []
    }
  ]
}