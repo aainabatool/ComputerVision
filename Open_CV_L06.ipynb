{
  "cells": [
    {
      "cell_type": "markdown",
      "metadata": {
        "id": "view-in-github",
        "colab_type": "text"
      },
      "source": [
        "<a href=\"https://colab.research.google.com/github/aainabatool/ComputerVision/blob/main/Open_CV_L06.ipynb\" target=\"_parent\"><img src=\"https://colab.research.google.com/assets/colab-badge.svg\" alt=\"Open In Colab\"/></a>"
      ]
    },
    {
      "cell_type": "code",
      "execution_count": null,
      "metadata": {
        "id": "MTfN59I5dG3f"
      },
      "outputs": [],
      "source": [
        "import cv2\n",
        "import numpy as np\n",
        "from google.colab.patches import cv2_imshow"
      ]
    },
    {
      "cell_type": "markdown",
      "metadata": {
        "id": "JBpxTS5tiOQc"
      },
      "source": [
        "**Load the video**"
      ]
    },
    {
      "cell_type": "code",
      "execution_count": null,
      "metadata": {
        "id": "nfqZTLoQiEQU"
      },
      "outputs": [],
      "source": [
        "\n",
        "video_path = '/content/14472107_2160_3840_25fps.mp4'\n",
        "cap = cv2.VideoCapture(video_path)\n",
        "\n",
        "if not cap.isOpened():\n",
        "    print(\"Error: Cannot open video file.\")\n",
        "    exit()\n"
      ]
    },
    {
      "cell_type": "markdown",
      "metadata": {
        "id": "7wJ_jH6QiqzT"
      },
      "source": [
        "**Get total frame count**"
      ]
    },
    {
      "cell_type": "code",
      "execution_count": null,
      "metadata": {
        "id": "Di_W_61OiPs0"
      },
      "outputs": [],
      "source": [
        "\n",
        "frame_count = int(cap.get(cv2.CAP_PROP_FRAME_COUNT))\n",
        "print(\"Total frames in video:\", frame_count)\n"
      ]
    },
    {
      "cell_type": "markdown",
      "metadata": {
        "id": "JOCPI9JRmDhG"
      },
      "source": [
        "**Read all frames and store them in a list**"
      ]
    },
    {
      "cell_type": "code",
      "execution_count": null,
      "metadata": {
        "id": "lqm6uIpLis78"
      },
      "outputs": [],
      "source": [
        "frames = []\n",
        "for i in range(frame_count):\n",
        "    ret, frame = cap.read()\n",
        "    if not ret:\n",
        "        break\n",
        "    frames.append(frame)\n",
        "\n",
        "cap.release()  # release the video"
      ]
    },
    {
      "cell_type": "markdown",
      "metadata": {
        "id": "6JXKIJYDmNsn"
      },
      "source": [
        "**Reverse the list of frames**"
      ]
    },
    {
      "cell_type": "code",
      "execution_count": null,
      "metadata": {
        "id": "lV_qUJjUmHuo"
      },
      "outputs": [],
      "source": [
        "reversed_frames = frames[::-1]  # slices the list in reverse"
      ]
    },
    {
      "cell_type": "markdown",
      "metadata": {
        "id": "yoMuscaMmTeK"
      },
      "source": [
        "**Play both videos (original + reversed) side by side**"
      ]
    },
    {
      "cell_type": "code",
      "execution_count": null,
      "metadata": {
        "colab": {
          "background_save": true
        },
        "id": "6IVUBuAamRXz"
      },
      "outputs": [],
      "source": [
        "for orig_frame, rev_frame in zip(frames, reversed_frames):\n",
        "    # Resize frames (optional, to make sure both same size)\n",
        "    orig_frame = cv2.resize(orig_frame, (480, 360))\n",
        "    rev_frame = cv2.resize(rev_frame, (480, 360))\n",
        "\n",
        "    # Combine frames horizontally\n",
        "    combined = np.hstack((orig_frame, rev_frame))\n",
        "\n",
        "    # Add a label text on top\n",
        "    cv2.putText(combined, \"Original (Left) | Reversed (Right)\",\n",
        "                (50, 40), cv2.FONT_HERSHEY_SIMPLEX, 0.8, (0,255,0), 2)\n",
        "\n",
        "    # Display combined video\n",
        "    cv2_imshow(combined)\n",
        "\n",
        "    # Wait for 25ms or until 'q' key pressed\n",
        "    if cv2.waitKey(25) & 0xFF == ord('q'):\n",
        "        break\n",
        "\n",
        "cv2.destroyAllWindows()"
      ]
    },
    {
      "cell_type": "code",
      "execution_count": null,
      "metadata": {
        "id": "MWC0PwvYmZLw"
      },
      "outputs": [],
      "source": []
    }
  ],
  "metadata": {
    "colab": {
      "provenance": [],
      "authorship_tag": "ABX9TyPT/eA0HoiMefP1fG+nk4u6",
      "include_colab_link": true
    },
    "kernelspec": {
      "display_name": "Python 3",
      "name": "python3"
    },
    "language_info": {
      "name": "python"
    }
  },
  "nbformat": 4,
  "nbformat_minor": 0
}