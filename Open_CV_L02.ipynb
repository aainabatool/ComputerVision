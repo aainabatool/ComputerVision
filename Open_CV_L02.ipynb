{
  "nbformat": 4,
  "nbformat_minor": 0,
  "metadata": {
    "colab": {
      "provenance": [],
      "authorship_tag": "ABX9TyMeJOsyjEnZ2/+GTbGLgTuN",
      "include_colab_link": true
    },
    "kernelspec": {
      "name": "python3",
      "display_name": "Python 3"
    },
    "language_info": {
      "name": "python"
    }
  },
  "cells": [
    {
      "cell_type": "markdown",
      "metadata": {
        "id": "view-in-github",
        "colab_type": "text"
      },
      "source": [
        "<a href=\"https://colab.research.google.com/github/aainabatool/ComputerVision/blob/main/Open_CV_L02.ipynb\" target=\"_parent\"><img src=\"https://colab.research.google.com/assets/colab-badge.svg\" alt=\"Open In Colab\"/></a>"
      ]
    },
    {
      "cell_type": "markdown",
      "source": [
        "# **LAB ACTIVITY 2**"
      ],
      "metadata": {
        "id": "_81ZdPSqtdmx"
      }
    },
    {
      "cell_type": "markdown",
      "source": [
        "**Activity 1**\n",
        "Drawing Circles"
      ],
      "metadata": {
        "id": "VKw1DAivU0aB"
      }
    },
    {
      "cell_type": "code",
      "execution_count": null,
      "metadata": {
        "id": "M4QW5t4_QXzt"
      },
      "outputs": [],
      "source": [
        "import cv2\n",
        "from google.colab.patches import cv2_imshow\n",
        "import numpy as np\n",
        "import matplotlib.pyplot as plt"
      ]
    },
    {
      "cell_type": "code",
      "source": [
        "image1 = cv2.imread(\"/content/download.jpeg\")"
      ],
      "metadata": {
        "id": "jDEBPt6RSKM2"
      },
      "execution_count": null,
      "outputs": []
    },
    {
      "cell_type": "code",
      "source": [
        "cv2_imshow(image1)\n",
        "cv2.waitKey(0)           #The argument inside waitKey() is the time in milliseconds to wait.\n",
        "                         # 0 → wait forever until the user presses any key.\n",
        "cv2.destroyAllWindows()  #It closes all OpenCV windows that were opened using cv2.imshow()."
      ],
      "metadata": {
        "id": "e9prQ4KYSOGd"
      },
      "execution_count": null,
      "outputs": []
    },
    {
      "cell_type": "markdown",
      "source": [
        "**Draw a Circle:**"
      ],
      "metadata": {
        "id": "MQCsFxJCTVOn"
      }
    },
    {
      "cell_type": "code",
      "source": [
        "#Coordinates and parameters from the circle:\n",
        "center_coordinates = (150,100)\n",
        "radius = 20\n",
        "color = (0, 255, 0) #green color\n",
        "thickness = 2"
      ],
      "metadata": {
        "id": "4zP4d3J7SWpO"
      },
      "execution_count": null,
      "outputs": []
    },
    {
      "cell_type": "code",
      "source": [
        "#Drawing circle on image:\n",
        "image_with_circle = cv2.circle(image1, center_coordinates, radius, color, thickness)"
      ],
      "metadata": {
        "id": "tmsD8LFRSqtg"
      },
      "execution_count": null,
      "outputs": []
    },
    {
      "cell_type": "code",
      "source": [
        "#Display image with circle:\n",
        "cv2_imshow( image_with_circle)\n",
        "cv2.waitKey(0)\n",
        "cv2.destroyAllWindows()"
      ],
      "metadata": {
        "id": "nWtJdMmET9FF"
      },
      "execution_count": null,
      "outputs": []
    },
    {
      "cell_type": "markdown",
      "source": [
        "**Activity 2**\n",
        "Drawing Lines\n"
      ],
      "metadata": {
        "id": "3gxpgGDRU50W"
      }
    },
    {
      "cell_type": "code",
      "source": [
        "image2 = cv2.imread(\"/content/parrot.jpeg\")"
      ],
      "metadata": {
        "id": "-wH2_WbOUPDT"
      },
      "execution_count": null,
      "outputs": []
    },
    {
      "cell_type": "code",
      "source": [
        "cv2_imshow(image2)\n",
        "cv2.waitKey(0)\n",
        "cv2.destroyAllWindows()"
      ],
      "metadata": {
        "id": "pGRvoAjEVazX"
      },
      "execution_count": null,
      "outputs": []
    },
    {
      "cell_type": "markdown",
      "source": [
        "**Draw a Line:**"
      ],
      "metadata": {
        "id": "EOsPh_e0V-jf"
      }
    },
    {
      "cell_type": "code",
      "source": [
        "#Coordinate and parameters for the line:\n",
        "start_point = (50,50)\n",
        "end_point = (200,100)\n",
        "color = (255, 0, 0) #blue color\n",
        "thickness = 2"
      ],
      "metadata": {
        "id": "DI24hVN7Vyq-"
      },
      "execution_count": null,
      "outputs": []
    },
    {
      "cell_type": "code",
      "source": [
        "#Draw Line on Image:\n",
        "image_with_line = cv2.line(image2, start_point, end_point, color, thickness)"
      ],
      "metadata": {
        "id": "aBE7FeURWOvt"
      },
      "execution_count": null,
      "outputs": []
    },
    {
      "cell_type": "code",
      "source": [
        "#Display the image with line:\n",
        "cv2_imshow(image_with_line)\n",
        "cv2.waitKey(0)\n",
        "cv2.destroyAllWindows()"
      ],
      "metadata": {
        "id": "RmEmhXsfWUGv"
      },
      "execution_count": null,
      "outputs": []
    },
    {
      "cell_type": "markdown",
      "source": [
        "**LAB TASKS:**"
      ],
      "metadata": {
        "id": "Y3EIOULHWokA"
      }
    },
    {
      "cell_type": "markdown",
      "source": [
        "**Task 1**\n",
        "Drawing Ellipses:\n"
      ],
      "metadata": {
        "id": "XqNrlPf_WwnV"
      }
    },
    {
      "cell_type": "code",
      "source": [
        "image3 = cv2.imread(\"/content/moon2.jpeg\")"
      ],
      "metadata": {
        "id": "Gt0LmSBgWbWF"
      },
      "execution_count": null,
      "outputs": []
    },
    {
      "cell_type": "code",
      "source": [
        "print(\"Image shape:\", image3.shape)\n"
      ],
      "metadata": {
        "id": "roHc917lf6e_"
      },
      "execution_count": null,
      "outputs": []
    },
    {
      "cell_type": "code",
      "source": [
        "cv2_imshow(image3)\n",
        "cv2.waitKey(0)\n",
        "cv2.destroyAllWindows()"
      ],
      "metadata": {
        "id": "z6Msm18QXaQD"
      },
      "execution_count": null,
      "outputs": []
    },
    {
      "cell_type": "code",
      "source": [
        "# --- Ellipse 1 ---\n",
        "img4 = image3.copy()\n",
        "cv2.ellipse(img4, (50, 60), (40, 20), 0, 0, 360, (255, 0, 0), 2)   # Blue ellipse\n",
        "cv2_imshow(img4)\n"
      ],
      "metadata": {
        "id": "XrriwLKFgYxd"
      },
      "execution_count": null,
      "outputs": []
    },
    {
      "cell_type": "code",
      "source": [
        "# --- Ellipse 2 (with ellipse 1) ---\n",
        "img5 = img4.copy()\n",
        "cv2.ellipse(img5, (100, 130), (50, 25), 45, 0, 360, (0, 255, 0), 2)  # Green ellipse\n",
        "cv2_imshow(img5)"
      ],
      "metadata": {
        "id": "0bSA6Sghgxuh"
      },
      "execution_count": null,
      "outputs": []
    },
    {
      "cell_type": "code",
      "source": [
        "cv2_imshow(img5)\n",
        "cv2.waitKey(0)\n",
        "cv2.destroyAllWindows()"
      ],
      "metadata": {
        "id": "8MCT0Obbhlxx"
      },
      "execution_count": null,
      "outputs": []
    },
    {
      "cell_type": "markdown",
      "source": [
        "**Task2**: Converting Ellipses to Polygons\n",
        "\n"
      ],
      "metadata": {
        "id": "OSbF_vvbiLu2"
      }
    },
    {
      "cell_type": "code",
      "source": [
        "# Reload base image\n",
        "image3 = cv2.imread(\"/content/moon2.jpeg\")\n",
        "cv2_imshow(image3)"
      ],
      "metadata": {
        "id": "75R093Udht2n"
      },
      "execution_count": null,
      "outputs": []
    },
    {
      "cell_type": "code",
      "source": [
        "# Draw Ellipse 2\n",
        "img6 = image3.copy()\n",
        "center = (100, 130)\n",
        "axes = (50, 25)\n",
        "angle = 45\n",
        "cv2.ellipse(img6, center, axes, angle, 0, 360, (0, 255, 0), 2)  # Green ellipse"
      ],
      "metadata": {
        "id": "HVKUwVb7iZlw"
      },
      "execution_count": null,
      "outputs": []
    },
    {
      "cell_type": "code",
      "source": [
        "# Convert ellipse to polygon\n",
        "# ellipse2Poly function\n",
        "pts = cv2.ellipse2Poly(center=center, axes=axes, angle=angle,\n",
        "                       arcStart=0, arcEnd=360, delta=10)  # step size = 10 deg"
      ],
      "metadata": {
        "id": "FYpd6CKBilQE"
      },
      "execution_count": null,
      "outputs": []
    },
    {
      "cell_type": "code",
      "source": [
        "# Draw polygon on top\n",
        "cv2.polylines(img6, [pts], isClosed=True, color=(255, 0, 0), thickness=2)"
      ],
      "metadata": {
        "id": "0rMvO97Ritqm"
      },
      "execution_count": null,
      "outputs": []
    },
    {
      "cell_type": "code",
      "source": [
        "# Show image\n",
        "cv2_imshow(img6)"
      ],
      "metadata": {
        "id": "2n04Xn0ViwD0"
      },
      "execution_count": null,
      "outputs": []
    },
    {
      "cell_type": "markdown",
      "source": [
        "**Task3:** Filling Convex Polygons:"
      ],
      "metadata": {
        "id": "hPGoeGI7j-qX"
      }
    },
    {
      "cell_type": "code",
      "source": [
        "# Task 3: Fill convex polygon from ellipse points\n",
        "img7 = image3.copy()\n",
        "\n",
        "# Fill the convex polygon with a color (e.g., red)\n",
        "cv2.fillConvexPoly(img7, pts, color=(0, 0, 255))\n",
        "\n",
        "# Show result\n",
        "cv2_imshow(img7)\n"
      ],
      "metadata": {
        "id": "3l6WdMUSj00c"
      },
      "execution_count": null,
      "outputs": []
    },
    {
      "cell_type": "markdown",
      "source": [
        "**Task 4:**\n",
        "Drawing Rectangles\n"
      ],
      "metadata": {
        "id": "BNGDCo9MlN4b"
      }
    },
    {
      "cell_type": "code",
      "source": [
        "imaget4 = cv2.imread(\"/content/lizard.jpeg\")"
      ],
      "metadata": {
        "id": "sxHdjQhQlEvj"
      },
      "execution_count": null,
      "outputs": []
    },
    {
      "cell_type": "code",
      "source": [
        "print(\"Image shape:\", imaget4.shape)\n"
      ],
      "metadata": {
        "id": "oZO5jMoBmckG"
      },
      "execution_count": null,
      "outputs": []
    },
    {
      "cell_type": "code",
      "source": [
        "cv2_imshow(imaget4)"
      ],
      "metadata": {
        "id": "d99QeLyEoDPM"
      },
      "execution_count": null,
      "outputs": []
    },
    {
      "cell_type": "code",
      "source": [
        "# Rectangle 1 (outlined, top-left side)\n",
        "imgR1 = imaget4.copy()\n",
        "cv2.rectangle(imgR1, (20, 30), (120, 100), (255, 0, 0), 3)  # Blue rectangle (outline)\n",
        "                     #top-left #bottom right          #thickness\n",
        "cv2_imshow(imgR1)"
      ],
      "metadata": {
        "id": "MiAKNP47l4ae"
      },
      "execution_count": null,
      "outputs": []
    },
    {
      "cell_type": "code",
      "source": [
        "# Rectangle 2 (with rectangle 1, filled, bottom-right side)\n",
        "imgR2 = imgR1.copy()\n",
        "cv2.rectangle(imgR2, (180, 100), (280, 160), (0, 255, 0), -1)  # Green filled rectangle\n",
        "cv2_imshow(imgR2)"
      ],
      "metadata": {
        "id": "KwaJxN9_mMFC"
      },
      "execution_count": null,
      "outputs": []
    },
    {
      "cell_type": "markdown",
      "source": [
        "**Task:5** Drawing Lines and Arrowed Lines"
      ],
      "metadata": {
        "id": "uu0xzeQ-ncwe"
      }
    },
    {
      "cell_type": "code",
      "source": [
        "imgT5 = cv2.imread(\"/content/owl.jpeg\")\n",
        "print(\"Image shape:\", imgT5.shape)"
      ],
      "metadata": {
        "id": "bc_5fgH5mVEm"
      },
      "execution_count": null,
      "outputs": []
    },
    {
      "cell_type": "code",
      "source": [
        "cv2_imshow(imgT5)"
      ],
      "metadata": {
        "id": "9mwbxfaQn7G0"
      },
      "execution_count": null,
      "outputs": []
    },
    {
      "cell_type": "code",
      "source": [
        "#cv2.line(img, pt1, pt2, color, thickness)\n",
        "# Line 1\n",
        "imgL1 = imgT5.copy()\n",
        "cv2.line(imgL1, (50, 50), (250, 50), (0, 0, 255), 2)  # Red line (horizontal, thickness 2)\n",
        "cv2_imshow(imgL1)"
      ],
      "metadata": {
        "id": "eleJMpqDn_zu"
      },
      "execution_count": null,
      "outputs": []
    },
    {
      "cell_type": "code",
      "source": [
        "#  Arrowed Line (with line 1)\n",
        "imgL2 = imgL1.copy()\n",
        "cv2.arrowedLine(imgL2, (50, 100), (250, 150), (0, 255, 0), 3)  # Green arrowed line\n",
        "cv2_imshow(imgL2)"
      ],
      "metadata": {
        "id": "Kph6fAzgoP8B"
      },
      "execution_count": null,
      "outputs": []
    },
    {
      "cell_type": "markdown",
      "source": [
        "**Task6:**\n",
        "PolyLines"
      ],
      "metadata": {
        "id": "VG6i517Eo4Jv"
      }
    },
    {
      "cell_type": "code",
      "source": [
        "imgT6 = cv2.imread(\"/content/lizard.jpeg\")\n",
        "print(\"Image shape:\", imgT6.shape)\n"
      ],
      "metadata": {
        "id": "624gYOgaoSH_"
      },
      "execution_count": null,
      "outputs": []
    },
    {
      "cell_type": "code",
      "source": [
        "# Define points for the polyline (triangle-like shape)\n",
        "pts = np.array([[50, 50], [250, 60], [200, 150], [80, 140]], np.int32) #list of coordinates for connected points.\n",
        "pts = pts.reshape((-1, 1, 2))  # required shape for cv2.polylines"
      ],
      "metadata": {
        "id": "0DAE28cNpEFi"
      },
      "execution_count": null,
      "outputs": []
    },
    {
      "cell_type": "code",
      "source": [
        "# Polyline (outline only)\n",
        "imgP1 = imgT6.copy()\n",
        "cv2.polylines(imgP1, [pts], isClosed=True, color=(255, 0, 0), thickness=3)  # Blue polyline\n",
        "cv2_imshow(imgP1)"
      ],
      "metadata": {
        "id": "sy03tcQbpGuj"
      },
      "execution_count": null,
      "outputs": []
    },
    {
      "cell_type": "code",
      "source": [
        "# Polyline (open, not closed)\n",
        "imgP2 = imgT6.copy()\n",
        "cv2.polylines(imgP2, [pts], isClosed=False, color=(0, 255, 0), thickness=2)  # Green open polyline\n",
        "cv2_imshow(imgP2)"
      ],
      "metadata": {
        "id": "fWgn7UunpSw1"
      },
      "execution_count": null,
      "outputs": []
    },
    {
      "cell_type": "markdown",
      "source": [
        "**Task7:**\n",
        "Putting Text on Images\n"
      ],
      "metadata": {
        "id": "EnDXcO4up8Ui"
      }
    },
    {
      "cell_type": "code",
      "source": [
        "imgT7 = cv2.imread(\"/content/owl.jpeg\")"
      ],
      "metadata": {
        "id": "JYsLQC0_pVDo"
      },
      "execution_count": null,
      "outputs": []
    },
    {
      "cell_type": "code",
      "source": [
        "# Text 1 (Top-left corner, small red text)\n",
        "imgTxt1 = imgT7.copy()\n",
        "cv2.putText(imgTxt1,\n",
        "            \"Owl\",           # text to put\n",
        "            (20, 40),           # bottom-left corner of text\n",
        "            cv2.FONT_HERSHEY_SIMPLEX, # font type\n",
        "            1,                  # font scale (size)\n",
        "            (0, 0, 255),        # color (red in BGR)\n",
        "            2,                  # thickness\n",
        "            cv2.LINE_AA)        # anti-aliasing\n",
        "cv2_imshow(imgTxt1)"
      ],
      "metadata": {
        "id": "Q9yU9AtnqLjN"
      },
      "execution_count": null,
      "outputs": []
    },
    {
      "cell_type": "code",
      "source": [
        "# Text 2 (Center, bigger green text)\n",
        "imgTxt2 = imgTxt1.copy()\n",
        "cv2.putText(imgTxt2,\n",
        "            \"OpenCV\",\n",
        "            (50, 100),\n",
        "            cv2.FONT_HERSHEY_COMPLEX,\n",
        "            1.2,\n",
        "            (0, 255, 0),        # green\n",
        "            2,\n",
        "            cv2.LINE_AA)\n",
        "cv2_imshow(imgTxt2)"
      ],
      "metadata": {
        "id": "Cm-2N3AgqNog"
      },
      "execution_count": null,
      "outputs": []
    },
    {
      "cell_type": "code",
      "source": [
        "# Text 3 (Bottom-right corner, blue italic text)\n",
        "imgTxt3 = imgTxt2.copy()\n",
        "cv2.putText(imgTxt3,\n",
        "            \"Task 7\",\n",
        "            (120, 160),         # near bottom-right\n",
        "            cv2.FONT_HERSHEY_TRIPLEX,\n",
        "            0.8,\n",
        "            (255, 0, 0),        # blue\n",
        "            2,\n",
        "            cv2.LINE_AA)\n",
        "cv2_imshow(imgTxt3)"
      ],
      "metadata": {
        "id": "hGdod5FZqX3Y"
      },
      "execution_count": null,
      "outputs": []
    },
    {
      "cell_type": "markdown",
      "source": [
        "**Task8:**\n",
        "Additional Challenges"
      ],
      "metadata": {
        "id": "XI-h4Qptq4OE"
      }
    },
    {
      "cell_type": "markdown",
      "source": [
        "**cv2.getTextSize()**"
      ],
      "metadata": {
        "id": "CbxHmXW-sAwd"
      }
    },
    {
      "cell_type": "code",
      "source": [
        "imgGetText = cv2.imread(\"/content/color.jpeg\")\n",
        "cv2_imshow(imgGetText)"
      ],
      "metadata": {
        "id": "7gINb97oqc-v"
      },
      "execution_count": null,
      "outputs": []
    },
    {
      "cell_type": "code",
      "source": [
        "# Define text\n",
        "text = \"Centered!\"\n",
        "font = cv2.FONT_HERSHEY_SIMPLEX\n",
        "scale = 1\n",
        "thickness = 2"
      ],
      "metadata": {
        "id": "nMl5qIrjrtby"
      },
      "execution_count": null,
      "outputs": []
    },
    {
      "cell_type": "code",
      "source": [
        "# Get text size\n",
        "(text_w, text_h), baseline = cv2.getTextSize(text, font, scale, thickness)"
      ],
      "metadata": {
        "id": "K7Od0fKNrxRF"
      },
      "execution_count": null,
      "outputs": []
    },
    {
      "cell_type": "code",
      "source": [
        "# Compute center coordinates\n",
        "img_h, img_w = imgGetText.shape[:2]\n",
        "x = (img_w - text_w) // 2\n",
        "y = (img_h + text_h) // 2"
      ],
      "metadata": {
        "id": "hBJ86PtdrzO8"
      },
      "execution_count": null,
      "outputs": []
    },
    {
      "cell_type": "code",
      "source": [
        "# Draw text at center\n",
        "cv2.putText(imgGetText, text, (x, y), font, scale, (0, 255, 0), thickness, cv2.LINE_AA)\n",
        "cv2_imshow(imgGetText)"
      ],
      "metadata": {
        "id": "AATOpm8pr02i"
      },
      "execution_count": null,
      "outputs": []
    },
    {
      "cell_type": "markdown",
      "source": [
        "**cv2.LineIterator**"
      ],
      "metadata": {
        "id": "z99hZwEDsDSJ"
      }
    }
  ]
}