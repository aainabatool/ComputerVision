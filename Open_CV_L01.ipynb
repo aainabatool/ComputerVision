{
  "nbformat": 4,
  "nbformat_minor": 0,
  "metadata": {
    "colab": {
      "provenance": [],
      "authorship_tag": "ABX9TyNnfXBGTwEsIaGVIFMomNYH",
      "include_colab_link": true
    },
    "kernelspec": {
      "name": "python3",
      "display_name": "Python 3"
    },
    "language_info": {
      "name": "python"
    }
  },
  "cells": [
    {
      "cell_type": "markdown",
      "metadata": {
        "id": "view-in-github",
        "colab_type": "text"
      },
      "source": [
        "<a href=\"https://colab.research.google.com/github/aainabatool/ComputerVision/blob/main/Open_CV_L01.ipynb\" target=\"_parent\"><img src=\"https://colab.research.google.com/assets/colab-badge.svg\" alt=\"Open In Colab\"/></a>"
      ]
    },
    {
      "cell_type": "code",
      "execution_count": null,
      "metadata": {
        "id": "ua38HuCzWTrm"
      },
      "outputs": [],
      "source": [
        "import cv2"
      ]
    },
    {
      "cell_type": "code",
      "source": [
        "from google.colab.patches import cv2_imshow"
      ],
      "metadata": {
        "id": "xKv7yKmnXvE1"
      },
      "execution_count": null,
      "outputs": []
    },
    {
      "cell_type": "code",
      "source": [
        "image = cv2.imread(\"/content/horsiee.jpg\")"
      ],
      "metadata": {
        "id": "LT7PeZ2ZWmvw"
      },
      "execution_count": null,
      "outputs": []
    },
    {
      "cell_type": "markdown",
      "source": [
        "# Read and Display Image:"
      ],
      "metadata": {
        "id": "GFzGIGtjnh6V"
      }
    },
    {
      "cell_type": "code",
      "source": [
        "cv2_imshow(image)\n",
        "cv2.waitKey(0)\n",
        "cv2.destroyAllWindows()"
      ],
      "metadata": {
        "id": "pcxPboMDXLAM"
      },
      "execution_count": null,
      "outputs": []
    },
    {
      "cell_type": "markdown",
      "source": [
        "# **Basic Operations:**"
      ],
      "metadata": {
        "id": "vCY0-Woynn3D"
      }
    },
    {
      "cell_type": "code",
      "source": [
        "resized_image = cv2.resize(image, (190, 200))"
      ],
      "metadata": {
        "id": "1WnLgCZ9XaT-"
      },
      "execution_count": null,
      "outputs": []
    },
    {
      "cell_type": "code",
      "metadata": {
        "id": "36d5d72c"
      },
      "source": [
        "cv2_imshow(resized_image)"
      ],
      "execution_count": null,
      "outputs": []
    },
    {
      "cell_type": "code",
      "source": [
        "rotated_image = cv2.rotate(image, cv2.ROTATE_90_CLOCKWISE)"
      ],
      "metadata": {
        "id": "cNO7vZpJh-Qp"
      },
      "execution_count": null,
      "outputs": []
    },
    {
      "cell_type": "code",
      "source": [
        "cv2_imshow(rotated_image)"
      ],
      "metadata": {
        "id": "WUrcfAB-iXsE"
      },
      "execution_count": null,
      "outputs": []
    },
    {
      "cell_type": "code",
      "source": [
        " flipped_image = cv2.flip(image, 1)"
      ],
      "metadata": {
        "id": "rHPSBqvgiIpj"
      },
      "execution_count": null,
      "outputs": []
    },
    {
      "cell_type": "code",
      "source": [
        "cv2_imshow(flipped_image)"
      ],
      "metadata": {
        "id": "4inD7wdKiNfN"
      },
      "execution_count": null,
      "outputs": []
    },
    {
      "cell_type": "markdown",
      "source": [
        "#\n",
        " Apply Image Filtering Techniques"
      ],
      "metadata": {
        "id": "TooPbvoRjubU"
      }
    },
    {
      "cell_type": "markdown",
      "source": [
        "## **Gausian Blur:**\n",
        "Blurring = reducing image details (smoothing).\n",
        "\n",
        "Gaussian Blur uses a mathematical function called the Gaussian function (a bell curve).\n",
        "\n",
        "Instead of averaging pixels equally (like a normal blur), it gives more weight to nearby pixels and less weight to far ones."
      ],
      "metadata": {
        "id": "mKfmdd-ijd_n"
      }
    },
    {
      "cell_type": "code",
      "source": [
        " blurred_image = cv2.GaussianBlur(image, (3, 3), 0)   #small blur, keeps more detail."
      ],
      "metadata": {
        "id": "7ToBRFWBih28"
      },
      "execution_count": null,
      "outputs": []
    },
    {
      "cell_type": "code",
      "source": [
        "cv2_imshow(blurred_image)"
      ],
      "metadata": {
        "id": "rJULkTQ0jGYR"
      },
      "execution_count": null,
      "outputs": []
    },
    {
      "cell_type": "code",
      "source": [
        " blurred_image = cv2.GaussianBlur(image, (7, 7), 0)"
      ],
      "metadata": {
        "id": "RMcw696KjJZ5"
      },
      "execution_count": null,
      "outputs": []
    },
    {
      "cell_type": "code",
      "source": [
        "cv2_imshow(blurred_image)"
      ],
      "metadata": {
        "id": "nKRUByPyjMRN"
      },
      "execution_count": null,
      "outputs": []
    },
    {
      "cell_type": "code",
      "source": [
        " blurred_image = cv2.GaussianBlur(image, (21, 21), 0)"
      ],
      "metadata": {
        "id": "2m7Ef99JjO5H"
      },
      "execution_count": null,
      "outputs": []
    },
    {
      "cell_type": "code",
      "source": [
        "cv2_imshow(blurred_image)"
      ],
      "metadata": {
        "id": "MB6eW-K7jSfj"
      },
      "execution_count": null,
      "outputs": []
    },
    {
      "cell_type": "markdown",
      "source": [
        "## **Convert Image to Grayscale:**\n",
        "\n",
        "A grayscale image has only shades of gray (0 → black, 255 → white).\n",
        "\n",
        "Each pixel has one intensity value, instead of 3 (R, G, B).\n"
      ],
      "metadata": {
        "id": "3hQ5-0lyj6tn"
      }
    },
    {
      "cell_type": "code",
      "source": [
        "gray_image = cv2.cvtColor(image, cv2.COLOR_BGR2GRAY) #cv2.cvtColor -> A function in OpenCV that converts an image from one color space to another."
      ],
      "metadata": {
        "id": "fih6M9FIjTQc"
      },
      "execution_count": null,
      "outputs": []
    },
    {
      "cell_type": "code",
      "source": [
        "cv2_imshow(gray_image)"
      ],
      "metadata": {
        "id": "LwrottfTkXak"
      },
      "execution_count": null,
      "outputs": []
    },
    {
      "cell_type": "code",
      "source": [],
      "metadata": {
        "id": "XSiGRj8zk5ly"
      },
      "execution_count": null,
      "outputs": []
    },
    {
      "cell_type": "markdown",
      "source": [
        "# Draw on Images to Annotate and Highlight Features"
      ],
      "metadata": {
        "id": "C2JpO-iolepK"
      }
    },
    {
      "cell_type": "code",
      "source": [
        " cv2.rectangle(image, (10, 5), (15, 10), (0, 255, 0), 2) #used to draw a rectangle on an image.\n",
        "\n",
        " #In OpenCV, color is BGR format (not RGB).\n",
        "#Example:\n",
        "#(255, 0, 0) → Blue\n",
        "#(0, 255, 0) → Green\n",
        "#(0, 0, 255) → Red"
      ],
      "metadata": {
        "id": "5UE03MNfmE-I"
      },
      "execution_count": null,
      "outputs": []
    },
    {
      "cell_type": "code",
      "source": [
        " cv2.putText(image, 'Hello, Horsieeeeeee!', (1, 1),\n",
        "cv2.FONT_HERSHEY_SIMPLEX, 1, (255, 0, 0), 2)"
      ],
      "metadata": {
        "id": "DJf2e3TomTc0"
      },
      "execution_count": null,
      "outputs": []
    },
    {
      "cell_type": "markdown",
      "source": [
        "# Save Processed Images to the Local Filesystem"
      ],
      "metadata": {
        "id": "M6Gv40QXnKIf"
      }
    },
    {
      "cell_type": "code",
      "source": [
        "cv2.imwrite('output_image.jpg', image)"
      ],
      "metadata": {
        "id": "OdS2xoYzm2qh"
      },
      "execution_count": null,
      "outputs": []
    },
    {
      "cell_type": "code",
      "source": [],
      "metadata": {
        "id": "JMNeM3vdnZZ_"
      },
      "execution_count": null,
      "outputs": []
    },
    {
      "cell_type": "markdown",
      "source": [
        "# **LAB TASK:01**\n",
        "\n",
        "\n",
        "\n"
      ],
      "metadata": {
        "id": "ub0ygBYin-z9"
      }
    },
    {
      "cell_type": "code",
      "source": [
        "# Step 1:\n",
        "image = cv2.imread(\"/content/mountains.jpg\")\n",
        "cv2_imshow(image)"
      ],
      "metadata": {
        "id": "ZTgvesrloGxx"
      },
      "execution_count": null,
      "outputs": []
    },
    {
      "cell_type": "code",
      "source": [
        "#Step 2: Resize Image:\n",
        "height, width = image.shape[:2]  #grabs only the first two values (height and width), ignoring the channels.\n",
        "resized = cv2.resize(image, (width // 2, height // 2))\n",
        "cv2_imshow(resized)"
      ],
      "metadata": {
        "id": "--TBl_6JoaGW"
      },
      "execution_count": null,
      "outputs": []
    },
    {
      "cell_type": "code",
      "source": [
        "#Step 3: Rotate\n",
        "rotated = cv2.rotate(resized, cv2.ROTATE_180)\n",
        "cv2_imshow(rotated)"
      ],
      "metadata": {
        "id": "5rmhglXwoiNX"
      },
      "execution_count": null,
      "outputs": []
    },
    {
      "cell_type": "code",
      "source": [
        "# Step 4: Flip vertically\n",
        "flipped = cv2.flip(rotated, 0)\n",
        "cv2_imshow(flipped)"
      ],
      "metadata": {
        "id": "LL9qeH9Ro919"
      },
      "execution_count": null,
      "outputs": []
    },
    {
      "cell_type": "markdown",
      "source": [
        "# **LAB TASK:02**"
      ],
      "metadata": {
        "id": "SH9rz7typQOd"
      }
    },
    {
      "cell_type": "code",
      "source": [
        "# Step 1: Read the imaage\n",
        "image = cv2.imread(\"/content/mountains.jpg\")\n",
        "cv2_imshow(image)"
      ],
      "metadata": {
        "id": "t30EBDU8pIKt"
      },
      "execution_count": null,
      "outputs": []
    },
    {
      "cell_type": "code",
      "source": [
        "# Step 2: Apply Gaussian Blur (5x5 kernel)\n",
        "blurred = cv2.GaussianBlur(image, (5, 5), 0)\n",
        "cv2_imshow(blurred)"
      ],
      "metadata": {
        "id": "hHhoN_zqps1Y"
      },
      "execution_count": null,
      "outputs": []
    },
    {
      "cell_type": "code",
      "source": [
        "# Step 3: Convert blurred image to grayscale\n",
        "gray = cv2.cvtColor(blurred, cv2.COLOR_BGR2GRAY)\n",
        "cv2_imshow(blurred)"
      ],
      "metadata": {
        "id": "rZy3NtyApyoh"
      },
      "execution_count": null,
      "outputs": []
    },
    {
      "cell_type": "code",
      "source": [
        "# Step 4: Save the processed image\n",
        "cv2.imwrite(\"output_horse.jpg\", gray)"
      ],
      "metadata": {
        "id": "syKVcngVp7zr"
      },
      "execution_count": null,
      "outputs": []
    },
    {
      "cell_type": "code",
      "source": [],
      "metadata": {
        "id": "fEKRPHltqHmb"
      },
      "execution_count": null,
      "outputs": []
    }
  ]
}